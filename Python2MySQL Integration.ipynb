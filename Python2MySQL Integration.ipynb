{
 "cells": [
  {
   "cell_type": "code",
   "execution_count": 1,
   "id": "beb2a885-8340-43fe-b7d1-2a6255a43f15",
   "metadata": {},
   "outputs": [
    {
     "name": "stdout",
     "output_type": "stream",
     "text": [
      "<mysql.connector.connection.MySQLConnection object at 0x0000014C3FDC5E20>\n"
     ]
    }
   ],
   "source": [
    "#This is to create a connection with MySQL Workbench on my local machine\n",
    "\n",
    "import mysql.connector\n",
    "from mysql.connector import Error\n",
    "from datetime import datetime\n",
    "\n",
    "#connect to the database\n",
    "def connect ():\n",
    "    return mysql.connector.connect(\n",
    "    host =\"localhost\",\n",
    "    user =\"root\",\n",
    "    password =\"admin123\"\n",
    ")\n",
    "\n",
    "myDB = connect()\n",
    "print(myDB)\n"
   ]
  },
  {
   "cell_type": "code",
   "execution_count": 2,
   "id": "c0c246b7-e184-4c80-82bb-9ddac0b59aac",
   "metadata": {},
   "outputs": [
    {
     "name": "stdout",
     "output_type": "stream",
     "text": [
      "('album',)\n",
      "('information_schema',)\n",
      "('library_management_system',)\n",
      "('mysql',)\n",
      "('new_samledb',)\n",
      "('performance_schema',)\n",
      "('scratch',)\n",
      "('sys',)\n",
      "('university',)\n",
      "('world',)\n"
     ]
    }
   ],
   "source": [
    "#This to find out the databases in my workbench\n",
    "   \n",
    "mycursor = myDB.cursor()\n",
    "\n",
    "mycursor.execute(\"SHOW DATABASES\")\n",
    "\n",
    "for x in mycursor:\n",
    "    print(x)\n",
    "    "
   ]
  },
  {
   "cell_type": "code",
   "execution_count": 3,
   "id": "c410cead-cdea-4f98-a476-197abc7e6593",
   "metadata": {},
   "outputs": [
    {
     "name": "stdout",
     "output_type": "stream",
     "text": [
      "('books',)\n",
      "('members',)\n",
      "('transactions',)\n"
     ]
    }
   ],
   "source": [
    "import mysql.connector\n",
    "\n",
    "myDB = mysql.connector.connect(\n",
    "    host =\"localhost\",\n",
    "    user =\"root\",\n",
    "    password =\"admin123\",\n",
    "    database = \"library_management_system\"\n",
    ")\n",
    "mycursor = myDB.cursor()\n",
    "\n",
    "mycursor.execute(\"SHOW TABLES\")\n",
    "\n",
    "for x in mycursor:\n",
    "    print(x)\n"
   ]
  },
  {
   "cell_type": "code",
   "execution_count": 4,
   "id": "cbe0ff3c-517b-4ba9-aa81-889175581dac",
   "metadata": {},
   "outputs": [
    {
     "name": "stdout",
     "output_type": "stream",
     "text": [
      "✅ Book added successfully.\n"
     ]
    }
   ],
   "source": [
    "#ADD   New add_book function\n",
    "\n",
    "def add_book():\n",
    "    myDB = mysql.connector.connect(\n",
    "        host=\"localhost\",\n",
    "        user=\"root\",\n",
    "        password=\"admin123\",\n",
    "        database=\"library_management_system\"\n",
    "    )\n",
    "    cursor = myDB.cursor()\n",
    "\n",
    "    #Accept input or use hardcoded values\n",
    "    title = input(\"Enter book title: \")\n",
    "    Author = input(\"Enter author name: \")\n",
    "    Genre = input(\"Enter genre\")\n",
    "    Year = input(\"Enter Published Year: \")\n",
    "    Price = input(\"Enter price: \")\n",
    "\n",
    "    try:\n",
    "        query = \"INSERT INTO books (title, Author, Genre, PublishedYear, Price) VALUES (%s, %s, %s, %s, %s)\"\n",
    "        cursor.execute(query, (title, Author, Genre, Year, Price))\n",
    "        myDB.commit()\n",
    "        print(\"✅ Book added successfully.\")\n",
    "    except Exception as e:\n",
    "        print(\"❌ Error adding book:\", e)\n",
    "    finally:\n",
    "        myDB.close()\n",
    "\n",
    "#Show All books\n",
    "def show_books():\n",
    "    myDB = mysql.connector.connect(\n",
    "        host=\"localhost\",\n",
    "        user=\"root\",\n",
    "        password=\"admin123\",\n",
    "        database=\"library_management_system\"\n",
    "\n",
    "    )   \n",
    "    cursor = myDB.cursor()\n",
    "    cursor.execute(\"SELECT * FROM books\")\n",
    "\n",
    "    result = cursor.fetchall()\n",
    "\n",
    "    print(\"📚 Books in database:\")  \n",
    "    for row in result:\n",
    "        print(row)\n",
    "    myDB.close()           \n",
    "\n",
    "#use the functions\n",
    "add_book()\n",
    "#show_books()\n",
    "\n",
    "\n",
    "\n",
    "\n"
   ]
  },
  {
   "cell_type": "code",
   "execution_count": 5,
   "id": "67c1ebcd-1c9b-432e-a40a-4025720a863d",
   "metadata": {},
   "outputs": [
    {
     "name": "stdout",
     "output_type": "stream",
     "text": [
      "(5, 'Discounted - The Hobbit', 'J.R.R. Tolkien', 'Classic', 9, 2009)\n",
      "(10, ' Discounted - The Brothers Karamazov', 'Mark Twain', 'Dystopian', 44, 2021)\n",
      "(12, ' Discounted - Brave New World', 'Charlotte Brontë', 'Adventure', 30, 2016)\n",
      "(13, 'Brave New World', 'Aldous Huxley', 'Dystopian', 250, 1932)\n",
      "(14, 'After Life', 'Ivan Driwale', 'Fiction', 260, 2015)\n",
      "(15, 'Waymakwe', 'Jesus', 'Gospel', 200, 2025)\n"
     ]
    }
   ],
   "source": [
    "mycursor = myDB.cursor()\n",
    "\n",
    "mycursor.execute(\"select* from books\")\n",
    "\n",
    "result = mycursor.fetchall()\n",
    "for x in result:\n",
    "    print(x)\n",
    "    "
   ]
  },
  {
   "cell_type": "code",
   "execution_count": 6,
   "id": "8002e623-89c3-4d6b-9563-ec3a12243112",
   "metadata": {},
   "outputs": [
    {
     "name": "stdout",
     "output_type": "stream",
     "text": [
      "✅ new member added.\n"
     ]
    }
   ],
   "source": [
    "#ADD NEW MEMBER\n",
    "\n",
    "def add_member():\n",
    "    myDB = mysql.connector.connect(\n",
    "        host=\"localhost\",\n",
    "        user=\"root\",\n",
    "        password=\"admin123\",\n",
    "        database=\"library_management_system\"\n",
    "    )\n",
    "\n",
    "    FirstName = input(\"Enter your First Name:\")\n",
    "    LastName  = input(\"Enter Last Name:\")\n",
    "    Email     = input(\"Enter your email address:\")\n",
    "    Phone     = input(\"Enter your Phone number:\")\n",
    "\n",
    "\n",
    "    cursor = myDB.cursor()\n",
    "    query = \"INSERT INTO members (FirstName, LastName, Email, Phone) VALUES (%s, %s, %s, %s)\"\n",
    "    cursor.execute(query, (FirstName, LastName, Email, Phone))\n",
    "    \n",
    "    print(\"✅ new member added.\")\n",
    "\n",
    "    myDB.close()\n",
    "\n",
    "add_member()"
   ]
  },
  {
   "cell_type": "code",
   "execution_count": 7,
   "id": "18b07162-2d83-41b1-aef7-5c87d4d8b968",
   "metadata": {},
   "outputs": [
    {
     "name": "stdout",
     "output_type": "stream",
     "text": [
      "(1, 'Bob', 'Brown', 'bob.brown1@example.com', '2318214282')\n",
      "(2, 'Bob', 'Williams', 'bob.williams2@example.com', '5665269972')\n",
      "(3, 'John', 'Brown', 'john.brown3@example.com', '3683771866')\n",
      "(4, 'Jane', 'Garcia', 'jane.garcia4@example.com', '1331593436')\n",
      "(5, 'Bob', 'Miller', 'bob.miller5@example.com', '2350512957')\n",
      "(6, 'John', 'Jones', 'john.jones6@example.com', '1665700352')\n",
      "(7, 'John', 'Williams', 'john.williams7@example.com', '6947827383')\n",
      "(8, 'Daisy', 'Doe', 'daisy.doe8@example.com', '9271146033')\n",
      "(9, 'Charlie', 'Smith', 'charlie.smith9@example.com', '5168727656')\n",
      "(10, 'John', 'Brown', 'john.brown10@example.com', '7163210669')\n",
      "(11, 'John', 'Garcia', 'john.garcia11@example.com', '2840486613')\n",
      "(12, 'John', 'Williams', 'john.williams12@example.com', '7342223534')\n",
      "(13, 'Charlie', 'Doe', 'charlie.doe13@example.com', '1688992193')\n",
      "(14, 'Ella', 'Miller', 'ella.miller14@example.com', '7967579804')\n",
      "(15, 'Grace', 'Jones', 'grace.jones15@example.com', '5500641842')\n",
      "(16, 'Henry', 'Smith', 'henry.smith16@example.com', '4015538159')\n",
      "(17, 'Jane', 'Brown', 'jane.brown17@example.com', '4636550145')\n",
      "(18, 'Charlie', 'Martinez', 'charlie.martinez18@example.com', '8876773816')\n",
      "(19, 'Alice', 'Davis', 'alice.davis19@example.com', '6409499867')\n",
      "(20, 'Bob', 'Smith', 'bob.smith20@example.com', '5017877648')\n"
     ]
    }
   ],
   "source": [
    "mycursor = myDB.cursor()\n",
    "\n",
    "mycursor.execute(\"select* from members\")\n",
    "\n",
    "result = mycursor.fetchall()\n",
    "for x in result:\n",
    "    print(x)"
   ]
  },
  {
   "cell_type": "code",
   "execution_count": 8,
   "id": "1e5b20a2",
   "metadata": {},
   "outputs": [],
   "source": [
    "# Issue a book with user input and validation\n",
    "def issue_book(bookID=None, memberID=None):\n",
    "    myDB = mysql.connector.connect(\n",
    "        host=\"localhost\",\n",
    "        user=\"root\",\n",
    "        password=\"admin123\",\n",
    "        database=\"library_management_system\"\n",
    "    )\n",
    "    if myDB is None:\n",
    "        return\n",
    "\n",
    "    try:\n",
    "        cursor = myDB.cursor()\n",
    "\n",
    "        # Prompt for input\n",
    "        #book_id = int(input(\"Enter Book ID to issue: \"))\n",
    "        #member_id = int(input(\"Enter Member ID: \"))\n",
    "        if bookID is None:\n",
    "            bookID = int(input(\"Enter Book ID to issue: \"))\n",
    "            \n",
    "        if memberID is None:\n",
    "            memberID = int(input(\"Enter Member ID: \"))\n",
    "\n",
    "        # Check if book exists\n",
    "        cursor.execute(\"SELECT title FROM books WHERE ID = %s\", (bookID,))\n",
    "        book = cursor.fetchone()\n",
    "        if not book:\n",
    "            print(\"❌ Book ID not found.\")\n",
    "            return\n",
    "\n",
    "        # Check if member exists\n",
    "        cursor.execute(\"SELECT name FROM members WHERE ID = %s\", (memberID,))\n",
    "        member = cursor.fetchone()\n",
    "        if not member:\n",
    "            print(\"❌ Member ID not found.\")\n",
    "            return\n",
    "\n",
    "        # Check if the book is already issued and not returned\n",
    "        cursor.execute(\"\"\"\n",
    "            SELECT *\n",
    "            FROM transactions\n",
    "            WHERE BookID = %s AND ReturnDate IS NULL\n",
    "        \"\"\", (bookID,))\n",
    "        already_issued = cursor.fetchone()\n",
    "        if already_issued:\n",
    "            print(\"⚠️ This book is currently issued and hasn't been returned.\")\n",
    "            return\n",
    "\n",
    "        # Issue the book\n",
    "        cursor.execute(\"\"\"\n",
    "            INSERT INTO transactions (BookID, MemberID, IssueDate)\n",
    "            VALUES (%s, %s, CURDATE())\n",
    "        \"\"\", (bookID, memberID))\n",
    "        myDB.commit()\n",
    "\n",
    "        print(f\"📚 Book '{book[0]}' successfully issued to {member[0]}.\")\n",
    "    except ValueError:\n",
    "        print(\"❌ Invalid input. Please enter numeric IDs.\")\n",
    "    except Error as e:\n",
    "        print(f\"❌ Database error: {e}\")\n",
    "    finally:\n",
    "        myDB.commit()\n"
   ]
  },
  {
   "cell_type": "code",
   "execution_count": 9,
   "id": "561ad6d0",
   "metadata": {},
   "outputs": [
    {
     "name": "stdout",
     "output_type": "stream",
     "text": [
      "❌ Database error: 1054 (42S22): Unknown column 'name' in 'field list'\n"
     ]
    }
   ],
   "source": [
    "issue_book()"
   ]
  },
  {
   "cell_type": "code",
   "execution_count": 17,
   "id": "18bfb02c-61d2-430e-9832-851bfc6feca7",
   "metadata": {},
   "outputs": [],
   "source": [
    "# Return a book and calculate fine\n",
    "def return_book(transactionID):\n",
    "    myDB = mysql.connector.connect(\n",
    "        host=\"localhost\",\n",
    "        user=\"root\",\n",
    "        password=\"admin123\",\n",
    "        database=\"library_management_system\"\n",
    "    )\n",
    "    if myDB is None:\n",
    "        return\n",
    "    try:\n",
    "        cursor = myDB.cursor()\n",
    "        cursor.execute(\"UPDATE transactions SET ReturnDate = CURDATE() WHERE ID = %s\", (transactionID,))\n",
    "        cursor.execute(\"\"\"\n",
    "            SELECT \n",
    "                CASE \n",
    "                    WHEN DATEDIFF(ReturnDate, IssueDate) > 14 THEN (DATEDIFF(ReturnDate, IssueDate) - 14) * 5\n",
    "                    ELSE 0\n",
    "                END AS fine\n",
    "            FROM transactions\n",
    "            WHERE ID = %s\n",
    "        \"\"\", (transactionID,))\n",
    "        fine = cursor.fetchone()[0]\n",
    "        print(f\"✅ Book returned. Fine: ₹{fine}\")\n",
    "        myDB.commit()\n",
    "    except Error as e:\n",
    "        print(f\"❌ Error returning book: {e}\")\n",
    "    finally:\n",
    "        myDB.close()"
   ]
  },
  {
   "cell_type": "code",
   "execution_count": 18,
   "id": "792010a0",
   "metadata": {},
   "outputs": [],
   "source": [
    "#Show full transaction history using JOINs\n",
    "def show_transactions():\n",
    "    myDB = mysql.connector.connect(\n",
    "        host=\"localhost\",\n",
    "        user=\"root\",\n",
    "        password=\"admin123\",\n",
    "        database=\"library_management_system\"\n",
    "        \n",
    "    )\n",
    "    if myDB is None:\n",
    "        return\n",
    "    try:\n",
    "        cursor = myDB.cursor()\n",
    "        query = \"\"\"\n",
    "        SELECT \n",
    "            t.ID AS TransactionID,\n",
    "            b.title AS BookTitle,\n",
    "            CONCAT(m.FirstName, ' ', m.LastName) AS MemberName,\n",
    "            t.IssueDate,\n",
    "            t.ReturnDate\n",
    "        FROM transactions t\n",
    "        JOIN books b ON t.BookID = b.ID\n",
    "        JOIN members m ON t.MemberID = m.ID\n",
    "        ORDER BY t.IssueDate DESC\n",
    "        \"\"\"\n",
    "        cursor.execute(query)\n",
    "        rows = cursor.fetchall()\n",
    "        for row in rows:\n",
    "            print(row)\n",
    "    except Error as e:\n",
    "        print(f\"❌ Error fetching transactions: {e}\")\n",
    "    finally:\n",
    "        myDB.close()"
   ]
  },
  {
   "cell_type": "code",
   "execution_count": 19,
   "id": "b1bd2078",
   "metadata": {},
   "outputs": [],
   "source": [
    "show_transactions()"
   ]
  },
  {
   "cell_type": "code",
   "execution_count": 20,
   "id": "b096ad69",
   "metadata": {},
   "outputs": [],
   "source": [
    "#search books by keyword\n",
    "def search_books(keyword):\n",
    "    myDB = mysql.connector.connect(\n",
    "        host=\"localhost\",\n",
    "        user=\"root\",\n",
    "        password=\"admin123\",\n",
    "        database=\"library_management_system\"\n",
    "        \n",
    "    )\n",
    "    if myDB is None:\n",
    "        return\n",
    "    try:\n",
    "        cursor = myDB.cursor()\n",
    "        query  = \"SELECT * FROM books WHERE title LIKE %s\"\n",
    "        cursor.execute(query, ('%' + keyword + '%',))\n",
    "        results = cursor.fetchall()\n",
    "\n",
    "        for book in results:\n",
    "            print(book)\n",
    "    except Error as e:\n",
    "        print(f\"❌ Error searching books: {e}\")   \n",
    "    finally:\n",
    "        myDB.close()         "
   ]
  },
  {
   "cell_type": "code",
   "execution_count": 14,
   "id": "f14fc170",
   "metadata": {},
   "outputs": [
    {
     "name": "stdout",
     "output_type": "stream",
     "text": [
      "(14, 'After Life', 'Ivan Driwale', 'Fiction', 260, 2015)\n"
     ]
    }
   ],
   "source": [
    "search_books('After')"
   ]
  },
  {
   "cell_type": "code",
   "execution_count": 21,
   "id": "45fe4f8b",
   "metadata": {},
   "outputs": [],
   "source": [
    "#Analytics: Most issued books\n",
    "\n",
    "def most_issued_books(limit=5):\n",
    "    myDB = mysql.connector.connect(\n",
    "        host=\"localhost\",\n",
    "        user=\"root\",\n",
    "        password=\"admin123\",\n",
    "        database=\"library_management_system\"\n",
    "\n",
    "    )\n",
    "    if myDB is None:\n",
    "        return\n",
    "    try:\n",
    "        cursor = myDB.cursor()\n",
    "        query = \"\"\"\n",
    "        SELECT b.title, COUNT(t.ID) as times_issued\n",
    "        FROM transactions t\n",
    "        JOIN books b on t.BookID = b.ID\n",
    "        GROUP BY t.BookID\n",
    "        ORDER BY times_issued DESC\n",
    "        LIMIT %s\n",
    "        \"\"\"\n",
    "        cursor.execute(query, (limit,))  # Added comma to make it a tuple\n",
    "        results = cursor.fetchall()\n",
    "        print(\"📊 Most Issued Books:\")\n",
    "        for row in results:\n",
    "            print(f\"{row[0]} - {row[1]} times\")\n",
    "    except Error as e:\n",
    "        print(f\"❌ Error fetching analytics: {e}\")\n",
    "    finally:\n",
    "        myDB.close()\n"
   ]
  },
  {
   "cell_type": "code",
   "execution_count": 16,
   "id": "d5d708bf",
   "metadata": {},
   "outputs": [
    {
     "name": "stdout",
     "output_type": "stream",
     "text": [
      "📊 Most Issued Books:\n"
     ]
    }
   ],
   "source": [
    "most_issued_books(limit=2)"
   ]
  }
 ],
 "metadata": {
  "kernelspec": {
   "display_name": "base",
   "language": "python",
   "name": "python3"
  },
  "language_info": {
   "codemirror_mode": {
    "name": "ipython",
    "version": 3
   },
   "file_extension": ".py",
   "mimetype": "text/x-python",
   "name": "python",
   "nbconvert_exporter": "python",
   "pygments_lexer": "ipython3",
   "version": "3.12.7"
  }
 },
 "nbformat": 4,
 "nbformat_minor": 5
}
